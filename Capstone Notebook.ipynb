{
    "cells": [
        {
            "metadata": {
                "collapsed": true
            },
            "cell_type": "markdown",
            "source": "<div align=\"center\"> <h1>IBM Data Science Capstone </h1><h2> Notebook and Analysis by Tony Allen Price </h2> </div>"
        },
        {
            "metadata": {},
            "cell_type": "markdown",
            "source": "This notebook is for the coding and analsysis work required to complete the final capstone of the IBM Data Science Professional certification on Coursera. It will contain any provided text and code, as well as original work, and will be labeled to refelect the source of materials. "
        },
        {
            "metadata": {},
            "cell_type": "code",
            "source": "# ORIGINAL CODE\n\n# Notebook Setup\nimport pandas as pd\nimport numpy as np\n\nprint('Hello Capstone Project Course!')",
            "execution_count": 5,
            "outputs": [
                {
                    "output_type": "stream",
                    "text": "Hello Capstone Project Course!\n",
                    "name": "stdout"
                }
            ]
        },
        {
            "metadata": {},
            "cell_type": "code",
            "source": "",
            "execution_count": null,
            "outputs": []
        }
    ],
    "metadata": {
        "kernelspec": {
            "name": "python3",
            "display_name": "Python 3.7",
            "language": "python"
        },
        "language_info": {
            "name": "python",
            "version": "3.7.9",
            "mimetype": "text/x-python",
            "codemirror_mode": {
                "name": "ipython",
                "version": 3
            },
            "pygments_lexer": "ipython3",
            "nbconvert_exporter": "python",
            "file_extension": ".py"
        }
    },
    "nbformat": 4,
    "nbformat_minor": 1
}